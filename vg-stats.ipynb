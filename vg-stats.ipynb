{
 "metadata": {
  "language_info": {
   "codemirror_mode": {
    "name": "ipython",
    "version": 3
   },
   "file_extension": ".py",
   "mimetype": "text/x-python",
   "name": "python",
   "nbconvert_exporter": "python",
   "pygments_lexer": "ipython3",
   "version": "3.9.0-final"
  },
  "orig_nbformat": 2,
  "kernelspec": {
   "name": "python3",
   "display_name": "Python 3",
   "language": "python"
  }
 },
 "nbformat": 4,
 "nbformat_minor": 2,
 "cells": [
  {
   "source": [
    "# Data Analysis with Pandas\n",
    "## Video Game Sales\n",
    "### Author: Grace Choi, 1/20/2021"
   ],
   "cell_type": "markdown",
   "metadata": {}
  },
  {
   "cell_type": "code",
   "execution_count": 1,
   "metadata": {},
   "outputs": [],
   "source": [
    "import pandas as pd\n",
    "import numpy as np"
   ]
  },
  {
   "cell_type": "code",
   "execution_count": 2,
   "metadata": {},
   "outputs": [],
   "source": [
    "df = pd.read_csv('./vgsales.csv')"
   ]
  },
  {
   "source": [
    "### 1. Which company is the most common video game publisher?"
   ],
   "cell_type": "markdown",
   "metadata": {}
  },
  {
   "cell_type": "code",
   "execution_count": 3,
   "metadata": {},
   "outputs": [
    {
     "output_type": "execute_result",
     "data": {
      "text/plain": [
       "0    Electronic Arts\n",
       "dtype: object"
      ]
     },
     "metadata": {},
     "execution_count": 3
    }
   ],
   "source": [
    "df['Publisher'].mode()"
   ]
  },
  {
   "source": [
    "### 2. What's the most common platform?"
   ],
   "cell_type": "markdown",
   "metadata": {}
  },
  {
   "cell_type": "code",
   "execution_count": 4,
   "metadata": {},
   "outputs": [
    {
     "output_type": "execute_result",
     "data": {
      "text/plain": [
       "0    DS\n",
       "dtype: object"
      ]
     },
     "metadata": {},
     "execution_count": 4
    }
   ],
   "source": [
    "df['Platform'].mode()"
   ]
  },
  {
   "source": [
    "### 3. What's the most common genre?    "
   ],
   "cell_type": "markdown",
   "metadata": {}
  },
  {
   "cell_type": "code",
   "execution_count": 5,
   "metadata": {},
   "outputs": [
    {
     "output_type": "execute_result",
     "data": {
      "text/plain": [
       "0    Action\n",
       "dtype: object"
      ]
     },
     "metadata": {},
     "execution_count": 5
    }
   ],
   "source": [
    "df['Genre'].mode()"
   ]
  },
  {
   "source": [
    "### 4. What are the top 20 highest grossing games?   "
   ],
   "cell_type": "markdown",
   "metadata": {}
  },
  {
   "cell_type": "code",
   "execution_count": 6,
   "metadata": {},
   "outputs": [
    {
     "output_type": "execute_result",
     "data": {
      "text/plain": [
       "                                            Name  Global_Sales\n",
       "19  Brain Age: Train Your Brain in Minutes a Day         20.22\n",
       "18                             Super Mario World         20.61\n",
       "17                 Grand Theft Auto: San Andreas         20.81\n",
       "16                            Grand Theft Auto V         21.40\n",
       "15                            Kinect Adventures!         21.82\n",
       "14                                  Wii Fit Plus         22.00\n",
       "13                                       Wii Fit         22.72\n",
       "12                   Pokemon Gold/Pokemon Silver         23.10\n",
       "11                                 Mario Kart DS         23.42\n",
       "10                                    Nintendogs         24.76\n",
       "9                                      Duck Hunt         28.31\n",
       "8                      New Super Mario Bros. Wii         28.62\n",
       "7                                       Wii Play         29.02\n",
       "6                          New Super Mario Bros.         30.01\n",
       "5                                         Tetris         30.26\n",
       "4                       Pokemon Red/Pokemon Blue         31.37\n",
       "3                              Wii Sports Resort         33.00\n",
       "2                                 Mario Kart Wii         35.82\n",
       "1                              Super Mario Bros.         40.24\n",
       "0                                     Wii Sports         82.74"
      ],
      "text/html": "<div>\n<style scoped>\n    .dataframe tbody tr th:only-of-type {\n        vertical-align: middle;\n    }\n\n    .dataframe tbody tr th {\n        vertical-align: top;\n    }\n\n    .dataframe thead th {\n        text-align: right;\n    }\n</style>\n<table border=\"1\" class=\"dataframe\">\n  <thead>\n    <tr style=\"text-align: right;\">\n      <th></th>\n      <th>Name</th>\n      <th>Global_Sales</th>\n    </tr>\n  </thead>\n  <tbody>\n    <tr>\n      <th>19</th>\n      <td>Brain Age: Train Your Brain in Minutes a Day</td>\n      <td>20.22</td>\n    </tr>\n    <tr>\n      <th>18</th>\n      <td>Super Mario World</td>\n      <td>20.61</td>\n    </tr>\n    <tr>\n      <th>17</th>\n      <td>Grand Theft Auto: San Andreas</td>\n      <td>20.81</td>\n    </tr>\n    <tr>\n      <th>16</th>\n      <td>Grand Theft Auto V</td>\n      <td>21.40</td>\n    </tr>\n    <tr>\n      <th>15</th>\n      <td>Kinect Adventures!</td>\n      <td>21.82</td>\n    </tr>\n    <tr>\n      <th>14</th>\n      <td>Wii Fit Plus</td>\n      <td>22.00</td>\n    </tr>\n    <tr>\n      <th>13</th>\n      <td>Wii Fit</td>\n      <td>22.72</td>\n    </tr>\n    <tr>\n      <th>12</th>\n      <td>Pokemon Gold/Pokemon Silver</td>\n      <td>23.10</td>\n    </tr>\n    <tr>\n      <th>11</th>\n      <td>Mario Kart DS</td>\n      <td>23.42</td>\n    </tr>\n    <tr>\n      <th>10</th>\n      <td>Nintendogs</td>\n      <td>24.76</td>\n    </tr>\n    <tr>\n      <th>9</th>\n      <td>Duck Hunt</td>\n      <td>28.31</td>\n    </tr>\n    <tr>\n      <th>8</th>\n      <td>New Super Mario Bros. Wii</td>\n      <td>28.62</td>\n    </tr>\n    <tr>\n      <th>7</th>\n      <td>Wii Play</td>\n      <td>29.02</td>\n    </tr>\n    <tr>\n      <th>6</th>\n      <td>New Super Mario Bros.</td>\n      <td>30.01</td>\n    </tr>\n    <tr>\n      <th>5</th>\n      <td>Tetris</td>\n      <td>30.26</td>\n    </tr>\n    <tr>\n      <th>4</th>\n      <td>Pokemon Red/Pokemon Blue</td>\n      <td>31.37</td>\n    </tr>\n    <tr>\n      <th>3</th>\n      <td>Wii Sports Resort</td>\n      <td>33.00</td>\n    </tr>\n    <tr>\n      <th>2</th>\n      <td>Mario Kart Wii</td>\n      <td>35.82</td>\n    </tr>\n    <tr>\n      <th>1</th>\n      <td>Super Mario Bros.</td>\n      <td>40.24</td>\n    </tr>\n    <tr>\n      <th>0</th>\n      <td>Wii Sports</td>\n      <td>82.74</td>\n    </tr>\n  </tbody>\n</table>\n</div>"
     },
     "metadata": {},
     "execution_count": 6
    }
   ],
   "source": [
    "df[['Name', 'Global_Sales']].sort_values('Global_Sales').tail(20)"
   ]
  },
  {
   "source": [
    "### 5. For North American sales, what's the median? Provide a secondary output showing 10 games surrounding the median sales output. Assume that games with same median value are sorted in descending order.      "
   ],
   "cell_type": "markdown",
   "metadata": {}
  },
  {
   "cell_type": "code",
   "execution_count": 7,
   "metadata": {},
   "outputs": [
    {
     "output_type": "execute_result",
     "data": {
      "text/plain": [
       "NA_Sales    0.08\n",
       "dtype: float64"
      ]
     },
     "metadata": {},
     "execution_count": 7
    }
   ],
   "source": [
    "df[['Name','NA_Sales']].median()"
   ]
  },
  {
   "cell_type": "code",
   "execution_count": 8,
   "metadata": {},
   "outputs": [
    {
     "output_type": "execute_result",
     "data": {
      "text/plain": [
       "                                                  Name  NA_Sales\n",
       "8297  Resident Evil Director's Cut: Dual Shock Edition      0.00\n",
       "8301                          The King of Fighters '95      0.00\n",
       "8303                              Hanjuku Eiyuu Tai 3D      0.00\n",
       "8304                     .hack//G.U. Vol.3//Redemption      0.00\n",
       "8300                         N3 II: Ninety-Nine Nights      0.06\n",
       "8296                             Backyard Baseball '10      0.08\n",
       "8302                                          RoadKill      0.08\n",
       "8298            The Lord of the Rings: Aragorn's Quest      0.10\n",
       "8295              Finding Nemo: Escape to the Big Blue      0.12\n",
       "8299                                        Top Spin 2      0.15"
      ],
      "text/html": "<div>\n<style scoped>\n    .dataframe tbody tr th:only-of-type {\n        vertical-align: middle;\n    }\n\n    .dataframe tbody tr th {\n        vertical-align: top;\n    }\n\n    .dataframe thead th {\n        text-align: right;\n    }\n</style>\n<table border=\"1\" class=\"dataframe\">\n  <thead>\n    <tr style=\"text-align: right;\">\n      <th></th>\n      <th>Name</th>\n      <th>NA_Sales</th>\n    </tr>\n  </thead>\n  <tbody>\n    <tr>\n      <th>8297</th>\n      <td>Resident Evil Director's Cut: Dual Shock Edition</td>\n      <td>0.00</td>\n    </tr>\n    <tr>\n      <th>8301</th>\n      <td>The King of Fighters '95</td>\n      <td>0.00</td>\n    </tr>\n    <tr>\n      <th>8303</th>\n      <td>Hanjuku Eiyuu Tai 3D</td>\n      <td>0.00</td>\n    </tr>\n    <tr>\n      <th>8304</th>\n      <td>.hack//G.U. Vol.3//Redemption</td>\n      <td>0.00</td>\n    </tr>\n    <tr>\n      <th>8300</th>\n      <td>N3 II: Ninety-Nine Nights</td>\n      <td>0.06</td>\n    </tr>\n    <tr>\n      <th>8296</th>\n      <td>Backyard Baseball '10</td>\n      <td>0.08</td>\n    </tr>\n    <tr>\n      <th>8302</th>\n      <td>RoadKill</td>\n      <td>0.08</td>\n    </tr>\n    <tr>\n      <th>8298</th>\n      <td>The Lord of the Rings: Aragorn's Quest</td>\n      <td>0.10</td>\n    </tr>\n    <tr>\n      <th>8295</th>\n      <td>Finding Nemo: Escape to the Big Blue</td>\n      <td>0.12</td>\n    </tr>\n    <tr>\n      <th>8299</th>\n      <td>Top Spin 2</td>\n      <td>0.15</td>\n    </tr>\n  </tbody>\n</table>\n</div>"
     },
     "metadata": {},
     "execution_count": 8
    }
   ],
   "source": [
    "df.iloc[8295:8305][['Name','NA_Sales']].sort_values('NA_Sales')"
   ]
  },
  {
   "source": [
    "### 6. For the top-selling game of all time, how many standard deviations above/below the mean are its sales for North America?    "
   ],
   "cell_type": "markdown",
   "metadata": {}
  },
  {
   "cell_type": "code",
   "execution_count": 9,
   "metadata": {},
   "outputs": [
    {
     "output_type": "execute_result",
     "data": {
      "text/plain": [
       "50.47898767479108"
      ]
     },
     "metadata": {},
     "execution_count": 9
    }
   ],
   "source": [
    "wii_na = df.iloc[0].NA_Sales\n",
    "na_mean = df['NA_Sales'].mean()\n",
    "diff = wii_na - na_mean\n",
    "na_std = df['NA_Sales'].std()\n",
    "zscore = diff / na_std\n",
    "zscore"
   ]
  },
  {
   "source": [
    "### 7. The Nintendo Wii seems to have outdone itself with games. How does its average number of sales compare with all the other platforms?"
   ],
   "cell_type": "markdown",
   "metadata": {}
  },
  {
   "cell_type": "code",
   "execution_count": 10,
   "metadata": {},
   "outputs": [
    {
     "output_type": "execute_result",
     "data": {
      "text/plain": [
       "Platform\n",
       "GB       1.0\n",
       "NES      2.0\n",
       "GEN      3.0\n",
       "SNES     4.0\n",
       "PS4      5.0\n",
       "X360     6.0\n",
       "2600     7.0\n",
       "PS3      8.0\n",
       "Wii      9.0\n",
       "N64     10.0\n",
       "Name: Global_Sales, dtype: float64"
      ]
     },
     "metadata": {},
     "execution_count": 10
    }
   ],
   "source": [
    "top_platforms = df.groupby(['Platform'])[['Global_Sales']].mean().sort_values('Global_Sales', ascending=False).head(10)\n",
    "top_platforms['Global_Sales'].rank(ascending=False)"
   ]
  },
  {
   "source": [
    "### 8a. How many different platforms are included in the data set and what are they?"
   ],
   "cell_type": "markdown",
   "metadata": {}
  },
  {
   "cell_type": "code",
   "execution_count": 11,
   "metadata": {},
   "outputs": [
    {
     "output_type": "execute_result",
     "data": {
      "text/plain": [
       "count     16598\n",
       "unique       31\n",
       "top          DS\n",
       "freq       2163\n",
       "Name: Platform, dtype: object"
      ]
     },
     "metadata": {},
     "execution_count": 11
    }
   ],
   "source": [
    "df['Platform'].describe()"
   ]
  },
  {
   "cell_type": "code",
   "execution_count": 12,
   "metadata": {},
   "outputs": [
    {
     "output_type": "execute_result",
     "data": {
      "text/plain": [
       "array(['Wii', 'NES', 'GB', 'DS', 'X360', 'PS3', 'PS2', 'SNES', 'GBA',\n",
       "       '3DS', 'PS4', 'N64', 'PS', 'XB', 'PC', '2600', 'PSP', 'XOne', 'GC',\n",
       "       'WiiU', 'GEN', 'DC', 'PSV', 'SAT', 'SCD', 'WS', 'NG', 'TG16',\n",
       "       '3DO', 'GG', 'PCFX'], dtype=object)"
      ]
     },
     "metadata": {},
     "execution_count": 12
    }
   ],
   "source": [
    "unique_platforms = df['Platform'].unique()\n",
    "unique_platforms"
   ]
  },
  {
   "source": [
    "### 8b. What game sold the most in Japan?"
   ],
   "cell_type": "markdown",
   "metadata": {}
  },
  {
   "cell_type": "code",
   "execution_count": 13,
   "metadata": {},
   "outputs": [
    {
     "output_type": "execute_result",
     "data": {
      "text/plain": [
       "                       Name  JP_Sales\n",
       "4  Pokemon Red/Pokemon Blue     10.22"
      ],
      "text/html": "<div>\n<style scoped>\n    .dataframe tbody tr th:only-of-type {\n        vertical-align: middle;\n    }\n\n    .dataframe tbody tr th {\n        vertical-align: top;\n    }\n\n    .dataframe thead th {\n        text-align: right;\n    }\n</style>\n<table border=\"1\" class=\"dataframe\">\n  <thead>\n    <tr style=\"text-align: right;\">\n      <th></th>\n      <th>Name</th>\n      <th>JP_Sales</th>\n    </tr>\n  </thead>\n  <tbody>\n    <tr>\n      <th>4</th>\n      <td>Pokemon Red/Pokemon Blue</td>\n      <td>10.22</td>\n    </tr>\n  </tbody>\n</table>\n</div>"
     },
     "metadata": {},
     "execution_count": 13
    }
   ],
   "source": [
    "df[['Name', 'JP_Sales']].sort_values('JP_Sales', ascending=False).head(1)"
   ]
  },
  {
   "source": [
    "### 8c. What is the oldest and lowest ranking game in the data set?"
   ],
   "cell_type": "markdown",
   "metadata": {}
  },
  {
   "cell_type": "code",
   "execution_count": 14,
   "metadata": {},
   "outputs": [
    {
     "output_type": "execute_result",
     "data": {
      "text/plain": [
       "          Name    Year\n",
       "6896  Checkers  1980.0"
      ],
      "text/html": "<div>\n<style scoped>\n    .dataframe tbody tr th:only-of-type {\n        vertical-align: middle;\n    }\n\n    .dataframe tbody tr th {\n        vertical-align: top;\n    }\n\n    .dataframe thead th {\n        text-align: right;\n    }\n</style>\n<table border=\"1\" class=\"dataframe\">\n  <thead>\n    <tr style=\"text-align: right;\">\n      <th></th>\n      <th>Name</th>\n      <th>Year</th>\n    </tr>\n  </thead>\n  <tbody>\n    <tr>\n      <th>6896</th>\n      <td>Checkers</td>\n      <td>1980.0</td>\n    </tr>\n  </tbody>\n</table>\n</div>"
     },
     "metadata": {},
     "execution_count": 14
    }
   ],
   "source": [
    "df[['Name', 'Year']].sort_values('Year').head(1)"
   ]
  }
 ]
}