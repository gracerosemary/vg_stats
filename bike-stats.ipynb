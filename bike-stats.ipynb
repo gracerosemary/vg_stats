{
 "metadata": {
  "language_info": {
   "codemirror_mode": {
    "name": "ipython",
    "version": 3
   },
   "file_extension": ".py",
   "mimetype": "text/x-python",
   "name": "python",
   "nbconvert_exporter": "python",
   "pygments_lexer": "ipython3",
   "version": "3.9.0-final"
  },
  "orig_nbformat": 2,
  "kernelspec": {
   "name": "python3",
   "display_name": "Python 3.9.0 64-bit ('.venv')",
   "metadata": {
    "interpreter": {
     "hash": "c151cc0d2f8a885c2c87ee6552bee6b58d167ac7a183350ef836166268fbce68"
    }
   }
  }
 },
 "nbformat": 4,
 "nbformat_minor": 2,
 "cells": [
  {
   "source": [
    "# Data Analysis with Pandas\n",
    "## Cycle Share Data Set\n",
    "### Author: Grace Choi, 1/20/2021"
   ],
   "cell_type": "markdown",
   "metadata": {}
  },
  {
   "cell_type": "code",
   "execution_count": 1,
   "metadata": {},
   "outputs": [],
   "source": [
    "import pandas as pd"
   ]
  },
  {
   "cell_type": "code",
   "execution_count": 2,
   "metadata": {},
   "outputs": [
    {
     "output_type": "stream",
     "name": "stderr",
     "text": [
      "b'Skipping line 50794: expected 12 fields, saw 20\\n'\n"
     ]
    }
   ],
   "source": [
    "df_station = pd.read_csv('./station.csv')\n",
    "df_trip = pd.read_csv('./trip.csv', error_bad_lines=False)\n",
    "df_weather = pd.read_csv('./weather.csv', parse_dates=['Date'])"
   ]
  },
  {
   "source": [
    "### 1. What is the average trip duration for a borrowed bicycle?"
   ],
   "cell_type": "markdown",
   "metadata": {}
  },
  {
   "cell_type": "code",
   "execution_count": 3,
   "metadata": {},
   "outputs": [
    {
     "output_type": "execute_result",
     "data": {
      "text/plain": [
       "1178.2956753399776"
      ]
     },
     "metadata": {},
     "execution_count": 3
    }
   ],
   "source": [
    "avg_trip = df_trip['tripduration'].mean()\n",
    "avg_trip"
   ]
  },
  {
   "source": [
    "### 2. What's the most common age of a bicycle-sharer?"
   ],
   "cell_type": "markdown",
   "metadata": {}
  },
  {
   "cell_type": "code",
   "execution_count": 4,
   "metadata": {},
   "outputs": [
    {
     "output_type": "execute_result",
     "data": {
      "text/plain": [
       "33.0"
      ]
     },
     "metadata": {},
     "execution_count": 4
    }
   ],
   "source": [
    "year = df_trip['birthyear'].mode()\n",
    "age = (2020 - year).item()\n",
    "age"
   ]
  },
  {
   "source": [
    "### 3. Given all the weather data here, find the average precipitation per month, and the median precipitation. "
   ],
   "cell_type": "markdown",
   "metadata": {}
  },
  {
   "cell_type": "code",
   "execution_count": 5,
   "metadata": {},
   "outputs": [
    {
     "output_type": "execute_result",
     "data": {
      "text/plain": [
       "Month\n",
       "1     0.143548\n",
       "2     0.168421\n",
       "3     0.156935\n",
       "4     0.051333\n",
       "5     0.012419\n",
       "6     0.030500\n",
       "7     0.012097\n",
       "8     0.018226\n",
       "9     0.041000\n",
       "10    0.189000\n",
       "11    0.187833\n",
       "12    0.236290\n",
       "Name: Precipitation_In, dtype: float64"
      ]
     },
     "metadata": {},
     "execution_count": 5
    }
   ],
   "source": [
    "df_weather.reset_index(drop=True)\n",
    "df_weather['Month'] = df_weather['Date'].dt.month\n",
    "df_weather['Year'] = df_weather['Date'].dt.year\n",
    "df_weather['Day'] = df_weather['Date'].dt.day\n",
    "avg_precipitation = df_weather.groupby(['Month'])['Precipitation_In'].mean()\n",
    "avg_precipitation"
   ]
  },
  {
   "cell_type": "code",
   "execution_count": 6,
   "metadata": {},
   "outputs": [
    {
     "output_type": "execute_result",
     "data": {
      "text/plain": [
       "Month\n",
       "1     0.020\n",
       "2     0.040\n",
       "3     0.025\n",
       "4     0.000\n",
       "5     0.000\n",
       "6     0.000\n",
       "7     0.000\n",
       "8     0.000\n",
       "9     0.000\n",
       "10    0.040\n",
       "11    0.035\n",
       "12    0.100\n",
       "Name: Precipitation_In, dtype: float64"
      ]
     },
     "metadata": {},
     "execution_count": 6
    }
   ],
   "source": [
    "median_precipitation = df_weather.groupby(['Month'])['Precipitation_In'].median()\n",
    "median_precipitation"
   ]
  },
  {
   "source": [
    "### 4. What's the average number of bikes at a given bike station?"
   ],
   "cell_type": "markdown",
   "metadata": {}
  },
  {
   "cell_type": "code",
   "execution_count": 7,
   "metadata": {},
   "outputs": [
    {
     "output_type": "execute_result",
     "data": {
      "text/plain": [
       "16.517241379310345"
      ]
     },
     "metadata": {},
     "execution_count": 7
    }
   ],
   "source": [
    "avg_bikes = df_station['current_dockcount'].mean()\n",
    "avg_bikes"
   ]
  },
  {
   "source": [
    "### 5. When a bike station is modified, is it more likely that it'll lost bikes or gain bikes? How do you know?\n",
    "> More likely to lose bikes because the difference between the current dockcount and the install dockcount is an average of 1 less bike."
   ],
   "cell_type": "markdown",
   "metadata": {}
  },
  {
   "cell_type": "code",
   "execution_count": 8,
   "metadata": {},
   "outputs": [
    {
     "output_type": "execute_result",
     "data": {
      "text/plain": [
       "-1.0689655172413792"
      ]
     },
     "metadata": {},
     "execution_count": 8
    }
   ],
   "source": [
    "df_station['count_difference'] = df_station['current_dockcount'] - df_station['install_dockcount']\n",
    "avg_difference = df_station['count_difference'].mean()\n",
    "avg_difference"
   ]
  },
  {
   "source": [
    "### 6a. What station has the most bikes currently docked?"
   ],
   "cell_type": "markdown",
   "metadata": {}
  },
  {
   "cell_type": "code",
   "execution_count": 9,
   "metadata": {},
   "outputs": [
    {
     "output_type": "execute_result",
     "data": {
      "text/plain": [
       "'CH-08'"
      ]
     },
     "metadata": {},
     "execution_count": 9
    }
   ],
   "source": [
    "busiest_station = df_station[['station_id', 'current_dockcount']].sort_values('current_dockcount', ascending=False).head(1)['station_id'].any()\n",
    "busiest_station"
   ]
  },
  {
   "source": [
    "### 6b. How many cyclers are non-binary?"
   ],
   "cell_type": "markdown",
   "metadata": {}
  },
  {
   "cell_type": "code",
   "execution_count": 10,
   "metadata": {},
   "outputs": [
    {
     "output_type": "execute_result",
     "data": {
      "text/plain": [
       "3431"
      ]
     },
     "metadata": {},
     "execution_count": 10
    }
   ],
   "source": [
    "non_binary_cyclers = df_trip['gender'].value_counts()['Other']\n",
    "non_binary_cyclers"
   ]
  },
  {
   "source": [
    "### 6c. How many bike users are Members?"
   ],
   "cell_type": "markdown",
   "metadata": {}
  },
  {
   "cell_type": "code",
   "execution_count": 11,
   "metadata": {},
   "outputs": [
    {
     "output_type": "execute_result",
     "data": {
      "text/plain": [
       "181557"
      ]
     },
     "metadata": {},
     "execution_count": 11
    }
   ],
   "source": [
    "member_count = df_trip['usertype'].value_counts()['Member']\n",
    "member_count"
   ]
  },
  {
   "source": [
    "### 6d. Find the average temp per month"
   ],
   "cell_type": "markdown",
   "metadata": {}
  },
  {
   "cell_type": "code",
   "execution_count": 12,
   "metadata": {},
   "outputs": [
    {
     "output_type": "execute_result",
     "data": {
      "text/plain": [
       "Month\n",
       "1     45.225806\n",
       "2     49.267857\n",
       "3     51.048387\n",
       "4     55.116667\n",
       "5     60.822581\n",
       "6     66.616667\n",
       "7     70.177419\n",
       "8     69.596774\n",
       "9     62.566667\n",
       "10    58.840000\n",
       "11    46.800000\n",
       "12    45.709677\n",
       "Name: Mean_Temperature_F, dtype: float64"
      ]
     },
     "metadata": {},
     "execution_count": 12
    }
   ],
   "source": [
    "df_weather.reset_index(drop=True)\n",
    "df_weather['Month'] = df_weather['Date'].dt.month\n",
    "df_weather['Year'] = df_weather['Date'].dt.year\n",
    "df_weather['Day'] = df_weather['Date'].dt.day\n",
    "avg_temp_per_month = df_weather.groupby(['Month'])['Mean_Temperature_F'].mean()\n",
    "avg_temp_per_month"
   ]
  },
  {
   "source": [
    "## Tests"
   ],
   "cell_type": "markdown",
   "metadata": {}
  },
  {
   "cell_type": "code",
   "execution_count": 13,
   "metadata": {},
   "outputs": [
    {
     "output_type": "stream",
     "name": "stdout",
     "text": [
      "Success!!!\n"
     ]
    }
   ],
   "source": [
    "def test():\n",
    "\n",
    "    def assert_equal(actual,expected):\n",
    "        assert actual == expected, f\"Expected {expected} but got {actual}\"\n",
    "\n",
    "    assert_equal(avg_trip, 1178.2956753399776)\n",
    "    assert_equal(age, 33.0)\n",
    "    assert_equal(avg_precipitation.iloc[0], 0.14354838709677417)\n",
    "    assert_equal(median_precipitation.iloc[0], 0.020)\n",
    "    assert_equal(avg_bikes, 16.517241379310345)\n",
    "    assert_equal(avg_difference, -1.0689655172413792)\n",
    "    assert_equal(busiest_station, 'CH-08')\n",
    "    assert_equal(non_binary_cyclers, 3431)\n",
    "    assert_equal(member_count, 181557)\n",
    "    assert_equal(avg_temp_per_month.iloc[0], 45.225806451612904)\n",
    "\n",
    "    print(\"Success!!!\")\n",
    "\n",
    "test()"
   ]
  },
  {
   "cell_type": "code",
   "execution_count": null,
   "metadata": {},
   "outputs": [],
   "source": []
  }
 ]
}